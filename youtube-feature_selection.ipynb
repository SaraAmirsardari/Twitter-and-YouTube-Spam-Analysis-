{
 "cells": [
  {
   "cell_type": "code",
   "execution_count": 50,
   "metadata": {},
   "outputs": [],
   "source": [
    "import numpy as np\n",
    "import pandas as pd\n",
    "import seaborn as sns\n",
    "import matplotlib.pyplot as plt\n",
    "from sklearn import model_selection\n",
    "from sklearn.model_selection import train_test_split, cross_val_score\n",
    "from sklearn.preprocessing import StandardScaler\n",
    "from sklearn import tree\n",
    "from sklearn.tree import DecisionTreeClassifier\n",
    "from sklearn.ensemble import RandomForestClassifier, BaggingClassifier, AdaBoostClassifier, VotingClassifier\n",
    "from sklearn.neighbors import KNeighborsClassifier\n",
    "from sklearn.linear_model import LogisticRegression\n",
    "from sklearn import svm\n",
    "from sklearn.svm import SVC\n",
    "from sklearn.neural_network import MLPClassifier\n",
    "from sklearn.naive_bayes import GaussianNB\n",
    "from sklearn.datasets.samples_generator import make_blobs\n",
    "from sklearn.metrics import confusion_matrix,accuracy_score, classification_report, f1_score, precision_recall_curve\n",
    "from sklearn.discriminant_analysis import QuadraticDiscriminantAnalysis\n",
    "from sklearn.linear_model import SGDClassifier\n",
    "from sklearn.datasets import make_classification\n",
    "from sklearn.metrics import roc_curve, roc_auc_score,auc\n",
    "from sklearn.feature_selection import VarianceThreshold,mutual_info_classif,mutual_info_regression\n",
    "import matplotlib.pyplot as plt\n",
    "from sklearn.feature_selection import SelectFromModel,SelectKBest,SelectPercentile\n",
    "from sklearn import preprocessing \n",
    "from sklearn.preprocessing import MinMaxScaler \n"
   ]
  },
  {
   "cell_type": "code",
   "execution_count": 51,
   "metadata": {},
   "outputs": [
    {
     "data": {
      "text/plain": [
       "3.0    672\n",
       "2.0    156\n",
       "Name: user_class, dtype: int64"
      ]
     },
     "execution_count": 51,
     "metadata": {},
     "output_type": "execute_result"
    }
   ],
   "source": [
    "fullFileName='youtube.csv'\n",
    "data=pd.read_csv(fullFileName, sep=' ')\n",
    "\n",
    "data_=data.replace(['1:','2:','3:','4:','5:','6:','7:','8:','9:','10:','11:','12:','13:','14:','15:','16:','17:','18:','19:',\n",
    "                   '20:','21:','22:','23:','24:','25:','25:','27:','28:','29:','30:','31:','32:','33:','34:','35:','36:','37:','38:','39:','40:','50:','60:'],'',regex=True).astype(float) \n",
    "\n",
    "data_.columns = ['user_class','Total number of views of all videos uploaded','Total number of views of all video responses',\n",
    "                 'Total number of views of all responded videos',\n",
    "'Total duration of all videos uploaded','Total duration of all video responses','Total duration of all responded videos',\n",
    "'Total number of ratings of all videos uploaded','Total number of ratings of all video responses','Total number of ratings of all responded videos',\n",
    "'Total number of comments of all videos uploaded','Total number of comments of all video responses','Total number of comments of all responded videos','Total number of times that all videos uploaded were added as favorite',\n",
    "'Total number of times that all video responses were added as favorite','Total number of times that all responded videos were added as favorite','Total number of honors of all videos uploaded','Total number of honors of all video responses',\n",
    "'Total number of honors of all responded videos','Total number of links of all videos uploaded','Total number of links of all video responses','Total number of links of all responded videos',\n",
    "'Average number of views of all videos uploaded','Average number of views of all video responses','Average number of views of all responded videos',\n",
    " 'Average duration of all videos uploaded','Average duration of all video responses','Average duration of all responded videos','Average number of ratings of all videos uploaded','Average number of ratings of all video responses',\n",
    "'Average number of ratings of all responded videos','Average number of comments of all videos uploaded','Average number of comments of all video responses','Average number of comments of all responded videos','Average number of times that all videos uploaded were added as favorite',\n",
    "'Average number of times that all video responses were added as favorite','Average number of times that all responded videos were added as favorite','Average number of honors of all videos uploaded','Average number of honors of all video responses','Average number of honors of all responded videos',\n",
    "'Average number of links of all videos uploaded','Average number of links of all video responses','Average number of links of all responded videos','Clustering Coefficient','Reciprocity','UserRank','Betweenness','Assortativity in-in degree',\n",
    "'Assortativity in-out degree','Assortativity out-in degree','Assortativity out-out degree','Number of responses posted','Number of responses received','Number of friends','Number of videos watched','Number of videos uploaded',\n",
    "'Number of videos added as favorite','Number of subscriptions','Number of subscribers','Maximum number of videos uploaded in 24 hours','Average time between video uploads']              \n",
    "                 \n",
    "data_['user_class'].replace((1), (3), inplace = True)\n",
    "data_['user_class'].value_counts()"
   ]
  },
  {
   "cell_type": "code",
   "execution_count": 52,
   "metadata": {},
   "outputs": [
    {
     "name": "stdout",
     "output_type": "stream",
     "text": [
      "Dataset Lenght::  828\n",
      "Dataset shape::  (828, 61)\n"
     ]
    }
   ],
   "source": [
    "#first we count the number of missing values in each row in pandas dataframe\n",
    "data_.isnull().sum(axis=0)\n",
    "print(\"Dataset Lenght:: \",len(data_))\n",
    "print(\"Dataset shape:: \", data_.shape)"
   ]
  },
  {
   "cell_type": "code",
   "execution_count": 53,
   "metadata": {},
   "outputs": [
    {
     "name": "stdout",
     "output_type": "stream",
     "text": [
      "Dataset:: \n",
      "<class 'pandas.core.frame.DataFrame'>\n",
      "RangeIndex: 828 entries, 0 to 827\n",
      "Data columns (total 61 columns):\n",
      "user_class                                                                  828 non-null float64\n",
      "Total number of views of all videos uploaded                                828 non-null float64\n",
      "Total number of views of all video responses                                828 non-null float64\n",
      "Total number of views of all responded videos                               828 non-null float64\n",
      "Total duration of all videos uploaded                                       828 non-null float64\n",
      "Total duration of all video responses                                       828 non-null float64\n",
      "Total duration of all responded videos                                      828 non-null float64\n",
      "Total number of ratings of all videos uploaded                              828 non-null float64\n",
      "Total number of ratings of all video responses                              828 non-null float64\n",
      "Total number of ratings of all responded videos                             828 non-null float64\n",
      "Total number of comments of all videos uploaded                             828 non-null float64\n",
      "Total number of comments of all video responses                             828 non-null float64\n",
      "Total number of comments of all responded videos                            828 non-null float64\n",
      "Total number of times that all videos uploaded were added as favorite       828 non-null float64\n",
      "Total number of times that all video responses were added as favorite       828 non-null float64\n",
      "Total number of times that all responded videos were added as favorite      828 non-null float64\n",
      "Total number of honors of all videos uploaded                               828 non-null float64\n",
      "Total number of honors of all video responses                               828 non-null float64\n",
      "Total number of honors of all responded videos                              828 non-null float64\n",
      "Total number of links of all videos uploaded                                828 non-null float64\n",
      "Total number of links of all video responses                                828 non-null float64\n",
      "Total number of links of all responded videos                               828 non-null float64\n",
      "Average number of views of all videos uploaded                              828 non-null float64\n",
      "Average number of views of all video responses                              828 non-null float64\n",
      "Average number of views of all responded videos                             828 non-null float64\n",
      "Average duration of all videos uploaded                                     828 non-null float64\n",
      "Average duration of all video responses                                     828 non-null float64\n",
      "Average duration of all responded videos                                    828 non-null float64\n",
      "Average number of ratings of all videos uploaded                            828 non-null float64\n",
      "Average number of ratings of all video responses                            828 non-null float64\n",
      "Average number of ratings of all responded videos                           828 non-null float64\n",
      "Average number of comments of all videos uploaded                           828 non-null float64\n",
      "Average number of comments of all video responses                           828 non-null float64\n",
      "Average number of comments of all responded videos                          828 non-null float64\n",
      "Average number of times that all videos uploaded were added as favorite     828 non-null float64\n",
      "Average number of times that all video responses were added as favorite     828 non-null float64\n",
      "Average number of times that all responded videos were added as favorite    828 non-null float64\n",
      "Average number of honors of all videos uploaded                             828 non-null float64\n",
      "Average number of honors of all video responses                             828 non-null float64\n",
      "Average number of honors of all responded videos                            828 non-null float64\n",
      "Average number of links of all videos uploaded                              828 non-null float64\n",
      "Average number of links of all video responses                              828 non-null float64\n",
      "Average number of links of all responded videos                             828 non-null float64\n",
      "Clustering Coefficient                                                      828 non-null float64\n",
      "Reciprocity                                                                 828 non-null float64\n",
      "UserRank                                                                    828 non-null float64\n",
      "Betweenness                                                                 828 non-null float64\n",
      "Assortativity in-in degree                                                  828 non-null float64\n",
      "Assortativity in-out degree                                                 828 non-null float64\n",
      "Assortativity out-in degree                                                 828 non-null float64\n",
      "Assortativity out-out degree                                                828 non-null float64\n",
      "Number of responses posted                                                  828 non-null float64\n",
      "Number of responses received                                                828 non-null float64\n",
      "Number of friends                                                           828 non-null float64\n",
      "Number of videos watched                                                    828 non-null float64\n",
      "Number of videos uploaded                                                   828 non-null float64\n",
      "Number of videos added as favorite                                          828 non-null float64\n",
      "Number of subscriptions                                                     828 non-null float64\n",
      "Number of subscribers                                                       828 non-null float64\n",
      "Maximum number of videos uploaded in 24 hours                               828 non-null float64\n",
      "Average time between video uploads                                          828 non-null float64\n",
      "dtypes: float64(61)\n",
      "memory usage: 394.7 KB\n"
     ]
    },
    {
     "data": {
      "text/html": [
       "<div>\n",
       "<style scoped>\n",
       "    .dataframe tbody tr th:only-of-type {\n",
       "        vertical-align: middle;\n",
       "    }\n",
       "\n",
       "    .dataframe tbody tr th {\n",
       "        vertical-align: top;\n",
       "    }\n",
       "\n",
       "    .dataframe thead th {\n",
       "        text-align: right;\n",
       "    }\n",
       "</style>\n",
       "<table border=\"1\" class=\"dataframe\">\n",
       "  <thead>\n",
       "    <tr style=\"text-align: right;\">\n",
       "      <th></th>\n",
       "      <th>user_class</th>\n",
       "      <th>Total number of views of all videos uploaded</th>\n",
       "      <th>Total number of views of all video responses</th>\n",
       "      <th>Total number of views of all responded videos</th>\n",
       "      <th>Total duration of all videos uploaded</th>\n",
       "      <th>Total duration of all video responses</th>\n",
       "      <th>Total duration of all responded videos</th>\n",
       "      <th>Total number of ratings of all videos uploaded</th>\n",
       "      <th>Total number of ratings of all video responses</th>\n",
       "      <th>Total number of ratings of all responded videos</th>\n",
       "      <th>...</th>\n",
       "      <th>Number of responses posted</th>\n",
       "      <th>Number of responses received</th>\n",
       "      <th>Number of friends</th>\n",
       "      <th>Number of videos watched</th>\n",
       "      <th>Number of videos uploaded</th>\n",
       "      <th>Number of videos added as favorite</th>\n",
       "      <th>Number of subscriptions</th>\n",
       "      <th>Number of subscribers</th>\n",
       "      <th>Maximum number of videos uploaded in 24 hours</th>\n",
       "      <th>Average time between video uploads</th>\n",
       "    </tr>\n",
       "  </thead>\n",
       "  <tbody>\n",
       "    <tr>\n",
       "      <td>count</td>\n",
       "      <td>828.000000</td>\n",
       "      <td>8.280000e+02</td>\n",
       "      <td>8.280000e+02</td>\n",
       "      <td>8.280000e+02</td>\n",
       "      <td>828.000000</td>\n",
       "      <td>828.000000</td>\n",
       "      <td>828.000000</td>\n",
       "      <td>828.000000</td>\n",
       "      <td>828.000000</td>\n",
       "      <td>828.000000</td>\n",
       "      <td>...</td>\n",
       "      <td>828.000000</td>\n",
       "      <td>828.000000</td>\n",
       "      <td>828.000000</td>\n",
       "      <td>828.000000</td>\n",
       "      <td>828.000000</td>\n",
       "      <td>828.000000</td>\n",
       "      <td>828.000000</td>\n",
       "      <td>828.000000</td>\n",
       "      <td>828.000000</td>\n",
       "      <td>8.280000e+02</td>\n",
       "    </tr>\n",
       "    <tr>\n",
       "      <td>mean</td>\n",
       "      <td>2.811594</td>\n",
       "      <td>4.132443e+05</td>\n",
       "      <td>9.065943e+04</td>\n",
       "      <td>8.664683e+06</td>\n",
       "      <td>12916.522947</td>\n",
       "      <td>2786.105072</td>\n",
       "      <td>2846.300725</td>\n",
       "      <td>2523.701691</td>\n",
       "      <td>643.015700</td>\n",
       "      <td>37584.998792</td>\n",
       "      <td>...</td>\n",
       "      <td>581.188406</td>\n",
       "      <td>660.907005</td>\n",
       "      <td>5064.342995</td>\n",
       "      <td>36856.285024</td>\n",
       "      <td>1481.985507</td>\n",
       "      <td>2022.259662</td>\n",
       "      <td>1229.875604</td>\n",
       "      <td>13690.445652</td>\n",
       "      <td>160.103865</td>\n",
       "      <td>3.585224e+06</td>\n",
       "    </tr>\n",
       "    <tr>\n",
       "      <td>std</td>\n",
       "      <td>0.391272</td>\n",
       "      <td>1.488269e+06</td>\n",
       "      <td>3.501392e+05</td>\n",
       "      <td>1.764183e+07</td>\n",
       "      <td>26038.343497</td>\n",
       "      <td>5167.388046</td>\n",
       "      <td>5202.768288</td>\n",
       "      <td>10580.569270</td>\n",
       "      <td>2989.969344</td>\n",
       "      <td>76740.216942</td>\n",
       "      <td>...</td>\n",
       "      <td>2666.074783</td>\n",
       "      <td>3273.872123</td>\n",
       "      <td>32238.092352</td>\n",
       "      <td>69149.515824</td>\n",
       "      <td>3518.920990</td>\n",
       "      <td>2864.462352</td>\n",
       "      <td>5169.813345</td>\n",
       "      <td>63078.120708</td>\n",
       "      <td>427.293704</td>\n",
       "      <td>1.346605e+07</td>\n",
       "    </tr>\n",
       "    <tr>\n",
       "      <td>min</td>\n",
       "      <td>2.000000</td>\n",
       "      <td>9.000000e+00</td>\n",
       "      <td>9.000000e+00</td>\n",
       "      <td>3.110000e+02</td>\n",
       "      <td>0.000000</td>\n",
       "      <td>0.000000</td>\n",
       "      <td>8.000000</td>\n",
       "      <td>0.000000</td>\n",
       "      <td>0.000000</td>\n",
       "      <td>3.000000</td>\n",
       "      <td>...</td>\n",
       "      <td>51.000000</td>\n",
       "      <td>50.000000</td>\n",
       "      <td>50.000000</td>\n",
       "      <td>50.000000</td>\n",
       "      <td>51.000000</td>\n",
       "      <td>50.000000</td>\n",
       "      <td>50.000000</td>\n",
       "      <td>50.000000</td>\n",
       "      <td>51.000000</td>\n",
       "      <td>8.100000e+00</td>\n",
       "    </tr>\n",
       "    <tr>\n",
       "      <td>25%</td>\n",
       "      <td>3.000000</td>\n",
       "      <td>8.856750e+03</td>\n",
       "      <td>1.745750e+03</td>\n",
       "      <td>1.344152e+05</td>\n",
       "      <td>1821.250000</td>\n",
       "      <td>320.250000</td>\n",
       "      <td>377.000000</td>\n",
       "      <td>61.750000</td>\n",
       "      <td>15.000000</td>\n",
       "      <td>865.250000</td>\n",
       "      <td>...</td>\n",
       "      <td>53.000000</td>\n",
       "      <td>50.000000</td>\n",
       "      <td>55.000000</td>\n",
       "      <td>5338.750000</td>\n",
       "      <td>514.000000</td>\n",
       "      <td>510.750000</td>\n",
       "      <td>50.000000</td>\n",
       "      <td>53.000000</td>\n",
       "      <td>52.000000</td>\n",
       "      <td>2.351306e+05</td>\n",
       "    </tr>\n",
       "    <tr>\n",
       "      <td>50%</td>\n",
       "      <td>3.000000</td>\n",
       "      <td>4.818800e+04</td>\n",
       "      <td>1.111550e+04</td>\n",
       "      <td>1.039888e+06</td>\n",
       "      <td>5353.500000</td>\n",
       "      <td>996.500000</td>\n",
       "      <td>1063.000000</td>\n",
       "      <td>327.500000</td>\n",
       "      <td>86.500000</td>\n",
       "      <td>6083.000000</td>\n",
       "      <td>...</td>\n",
       "      <td>59.000000</td>\n",
       "      <td>53.000000</td>\n",
       "      <td>531.000000</td>\n",
       "      <td>5953.000000</td>\n",
       "      <td>532.500000</td>\n",
       "      <td>549.000000</td>\n",
       "      <td>51.000000</td>\n",
       "      <td>526.000000</td>\n",
       "      <td>54.000000</td>\n",
       "      <td>5.804255e+05</td>\n",
       "    </tr>\n",
       "    <tr>\n",
       "      <td>75%</td>\n",
       "      <td>3.000000</td>\n",
       "      <td>2.449685e+05</td>\n",
       "      <td>4.635350e+04</td>\n",
       "      <td>7.824169e+06</td>\n",
       "      <td>13791.250000</td>\n",
       "      <td>3076.500000</td>\n",
       "      <td>3000.750000</td>\n",
       "      <td>1524.750000</td>\n",
       "      <td>356.250000</td>\n",
       "      <td>34991.250000</td>\n",
       "      <td>...</td>\n",
       "      <td>521.000000</td>\n",
       "      <td>518.000000</td>\n",
       "      <td>5133.250000</td>\n",
       "      <td>52393.750000</td>\n",
       "      <td>576.250000</td>\n",
       "      <td>5136.250000</td>\n",
       "      <td>533.000000</td>\n",
       "      <td>5217.000000</td>\n",
       "      <td>57.000000</td>\n",
       "      <td>1.290931e+06</td>\n",
       "    </tr>\n",
       "    <tr>\n",
       "      <td>max</td>\n",
       "      <td>3.000000</td>\n",
       "      <td>1.952458e+07</td>\n",
       "      <td>6.454217e+06</td>\n",
       "      <td>1.745945e+08</td>\n",
       "      <td>399444.000000</td>\n",
       "      <td>59257.000000</td>\n",
       "      <td>64994.000000</td>\n",
       "      <td>154072.000000</td>\n",
       "      <td>67990.000000</td>\n",
       "      <td>566988.000000</td>\n",
       "      <td>...</td>\n",
       "      <td>51304.000000</td>\n",
       "      <td>51566.000000</td>\n",
       "      <td>530748.000000</td>\n",
       "      <td>518892.000000</td>\n",
       "      <td>51304.000000</td>\n",
       "      <td>51367.000000</td>\n",
       "      <td>51025.000000</td>\n",
       "      <td>548573.000000</td>\n",
       "      <td>5241.000000</td>\n",
       "      <td>7.255527e+07</td>\n",
       "    </tr>\n",
       "  </tbody>\n",
       "</table>\n",
       "<p>8 rows × 61 columns</p>\n",
       "</div>"
      ],
      "text/plain": [
       "       user_class  Total number of views of all videos uploaded  \\\n",
       "count  828.000000                                  8.280000e+02   \n",
       "mean     2.811594                                  4.132443e+05   \n",
       "std      0.391272                                  1.488269e+06   \n",
       "min      2.000000                                  9.000000e+00   \n",
       "25%      3.000000                                  8.856750e+03   \n",
       "50%      3.000000                                  4.818800e+04   \n",
       "75%      3.000000                                  2.449685e+05   \n",
       "max      3.000000                                  1.952458e+07   \n",
       "\n",
       "       Total number of views of all video responses  \\\n",
       "count                                  8.280000e+02   \n",
       "mean                                   9.065943e+04   \n",
       "std                                    3.501392e+05   \n",
       "min                                    9.000000e+00   \n",
       "25%                                    1.745750e+03   \n",
       "50%                                    1.111550e+04   \n",
       "75%                                    4.635350e+04   \n",
       "max                                    6.454217e+06   \n",
       "\n",
       "       Total number of views of all responded videos  \\\n",
       "count                                   8.280000e+02   \n",
       "mean                                    8.664683e+06   \n",
       "std                                     1.764183e+07   \n",
       "min                                     3.110000e+02   \n",
       "25%                                     1.344152e+05   \n",
       "50%                                     1.039888e+06   \n",
       "75%                                     7.824169e+06   \n",
       "max                                     1.745945e+08   \n",
       "\n",
       "       Total duration of all videos uploaded  \\\n",
       "count                             828.000000   \n",
       "mean                            12916.522947   \n",
       "std                             26038.343497   \n",
       "min                                 0.000000   \n",
       "25%                              1821.250000   \n",
       "50%                              5353.500000   \n",
       "75%                             13791.250000   \n",
       "max                            399444.000000   \n",
       "\n",
       "       Total duration of all video responses  \\\n",
       "count                             828.000000   \n",
       "mean                             2786.105072   \n",
       "std                              5167.388046   \n",
       "min                                 0.000000   \n",
       "25%                               320.250000   \n",
       "50%                               996.500000   \n",
       "75%                              3076.500000   \n",
       "max                             59257.000000   \n",
       "\n",
       "       Total duration of all responded videos  \\\n",
       "count                              828.000000   \n",
       "mean                              2846.300725   \n",
       "std                               5202.768288   \n",
       "min                                  8.000000   \n",
       "25%                                377.000000   \n",
       "50%                               1063.000000   \n",
       "75%                               3000.750000   \n",
       "max                              64994.000000   \n",
       "\n",
       "       Total number of ratings of all videos uploaded  \\\n",
       "count                                      828.000000   \n",
       "mean                                      2523.701691   \n",
       "std                                      10580.569270   \n",
       "min                                          0.000000   \n",
       "25%                                         61.750000   \n",
       "50%                                        327.500000   \n",
       "75%                                       1524.750000   \n",
       "max                                     154072.000000   \n",
       "\n",
       "       Total number of ratings of all video responses  \\\n",
       "count                                      828.000000   \n",
       "mean                                       643.015700   \n",
       "std                                       2989.969344   \n",
       "min                                          0.000000   \n",
       "25%                                         15.000000   \n",
       "50%                                         86.500000   \n",
       "75%                                        356.250000   \n",
       "max                                      67990.000000   \n",
       "\n",
       "       Total number of ratings of all responded videos  ...  \\\n",
       "count                                       828.000000  ...   \n",
       "mean                                      37584.998792  ...   \n",
       "std                                       76740.216942  ...   \n",
       "min                                           3.000000  ...   \n",
       "25%                                         865.250000  ...   \n",
       "50%                                        6083.000000  ...   \n",
       "75%                                       34991.250000  ...   \n",
       "max                                      566988.000000  ...   \n",
       "\n",
       "       Number of responses posted  Number of responses received  \\\n",
       "count                  828.000000                    828.000000   \n",
       "mean                   581.188406                    660.907005   \n",
       "std                   2666.074783                   3273.872123   \n",
       "min                     51.000000                     50.000000   \n",
       "25%                     53.000000                     50.000000   \n",
       "50%                     59.000000                     53.000000   \n",
       "75%                    521.000000                    518.000000   \n",
       "max                  51304.000000                  51566.000000   \n",
       "\n",
       "       Number of friends  Number of videos watched  Number of videos uploaded  \\\n",
       "count         828.000000                828.000000                 828.000000   \n",
       "mean         5064.342995              36856.285024                1481.985507   \n",
       "std         32238.092352              69149.515824                3518.920990   \n",
       "min            50.000000                 50.000000                  51.000000   \n",
       "25%            55.000000               5338.750000                 514.000000   \n",
       "50%           531.000000               5953.000000                 532.500000   \n",
       "75%          5133.250000              52393.750000                 576.250000   \n",
       "max        530748.000000             518892.000000               51304.000000   \n",
       "\n",
       "       Number of videos added as favorite  Number of subscriptions  \\\n",
       "count                          828.000000               828.000000   \n",
       "mean                          2022.259662              1229.875604   \n",
       "std                           2864.462352              5169.813345   \n",
       "min                             50.000000                50.000000   \n",
       "25%                            510.750000                50.000000   \n",
       "50%                            549.000000                51.000000   \n",
       "75%                           5136.250000               533.000000   \n",
       "max                          51367.000000             51025.000000   \n",
       "\n",
       "       Number of subscribers  Maximum number of videos uploaded in 24 hours  \\\n",
       "count             828.000000                                     828.000000   \n",
       "mean            13690.445652                                     160.103865   \n",
       "std             63078.120708                                     427.293704   \n",
       "min                50.000000                                      51.000000   \n",
       "25%                53.000000                                      52.000000   \n",
       "50%               526.000000                                      54.000000   \n",
       "75%              5217.000000                                      57.000000   \n",
       "max            548573.000000                                    5241.000000   \n",
       "\n",
       "       Average time between video uploads  \n",
       "count                        8.280000e+02  \n",
       "mean                         3.585224e+06  \n",
       "std                          1.346605e+07  \n",
       "min                          8.100000e+00  \n",
       "25%                          2.351306e+05  \n",
       "50%                          5.804255e+05  \n",
       "75%                          1.290931e+06  \n",
       "max                          7.255527e+07  \n",
       "\n",
       "[8 rows x 61 columns]"
      ]
     },
     "execution_count": 53,
     "metadata": {},
     "output_type": "execute_result"
    }
   ],
   "source": [
    "print(\"Dataset:: \")\n",
    "data_.head()\n",
    "data_.info()\n",
    "data_.describe()"
   ]
  },
  {
   "cell_type": "code",
   "execution_count": 54,
   "metadata": {},
   "outputs": [],
   "source": [
    "array=data_.values\n",
    "X1 = array[:,1: ] \n",
    "Y = array[:,0]\n",
    " \n",
    "\"\"\" MIN MAX SCALER \"\"\"\n",
    "min_max_scaler = preprocessing.MinMaxScaler(feature_range =(0, 1)) \n",
    "# Scaled feature \n",
    "X2 = min_max_scaler.fit_transform(X1) \n",
    "\n",
    "  \n",
    "\"\"\" Standardisation \"\"\" \n",
    "Standardisation = preprocessing.StandardScaler() \n",
    "# Scaled feature \n",
    "X = Standardisation.fit_transform(X2) \n",
    "\n",
    "#Spliting Dataset into Test and Train\n",
    "X_train, X_test, y_train, y_test=train_test_split(X,Y,test_size=0.2, random_state=0)\n",
    "#Applying Standard scaling to get optimized result\n",
    "\n"
   ]
  },
  {
   "cell_type": "code",
   "execution_count": 55,
   "metadata": {},
   "outputs": [],
   "source": [
    "###remove constant,\n",
    "constant_filter=VarianceThreshold(threshold=0.01)\n",
    "constant_filter.fit(X_train)\n",
    "X_train_filter=constant_filter.transform(X_train)\n",
    "X_test_filter=constant_filter.transform(X_test)"
   ]
  },
  {
   "cell_type": "code",
   "execution_count": 56,
   "metadata": {},
   "outputs": [],
   "source": [
    "##duplicate features\n",
    "X_train_T=X_train_filter.T\n",
    "X_test_T=X_test_filter.T"
   ]
  },
  {
   "cell_type": "code",
   "execution_count": 57,
   "metadata": {},
   "outputs": [],
   "source": [
    "X_train_T=pd.DataFrame(X_train_T)\n",
    "X_test_T=pd.DataFrame(X_test_T)"
   ]
  },
  {
   "cell_type": "code",
   "execution_count": 58,
   "metadata": {},
   "outputs": [
    {
     "data": {
      "text/plain": [
       "0"
      ]
     },
     "execution_count": 58,
     "metadata": {},
     "output_type": "execute_result"
    }
   ],
   "source": [
    "X_train_T.duplicated().sum()"
   ]
  },
  {
   "cell_type": "code",
   "execution_count": 59,
   "metadata": {},
   "outputs": [],
   "source": [
    "####we have duplicate features here\n",
    "duplicated_features=X_train_T.duplicated()"
   ]
  },
  {
   "cell_type": "code",
   "execution_count": 60,
   "metadata": {},
   "outputs": [],
   "source": [
    "features_to_keep=[not index for index in duplicated_features]"
   ]
  },
  {
   "cell_type": "code",
   "execution_count": 61,
   "metadata": {},
   "outputs": [],
   "source": [
    "X_train_unique=X_train_T[features_to_keep].T\n",
    "X_test_unique=X_test_T[features_to_keep].T"
   ]
  },
  {
   "cell_type": "code",
   "execution_count": 62,
   "metadata": {},
   "outputs": [
    {
     "data": {
      "text/plain": [
       "((662, 60), (166, 60))"
      ]
     },
     "execution_count": 62,
     "metadata": {},
     "output_type": "execute_result"
    }
   ],
   "source": [
    "X_train_unique.shape,X_test_unique.shape"
   ]
  },
  {
   "cell_type": "code",
   "execution_count": 63,
   "metadata": {},
   "outputs": [],
   "source": [
    "###calculate the MI\n",
    "mi=mutual_info_classif(X_train_unique, y_train)"
   ]
  },
  {
   "cell_type": "code",
   "execution_count": 64,
   "metadata": {},
   "outputs": [
    {
     "data": {
      "text/plain": [
       "60"
      ]
     },
     "execution_count": 64,
     "metadata": {},
     "output_type": "execute_result"
    }
   ],
   "source": [
    "len(mi)"
   ]
  },
  {
   "cell_type": "code",
   "execution_count": 65,
   "metadata": {},
   "outputs": [
    {
     "data": {
      "text/plain": [
       "array([0.02778991, 0.        , 0.14478495, 0.05627905, 0.02367451,\n",
       "       0.05861321, 0.0393775 , 0.03369536, 0.13918806, 0.03848656,\n",
       "       0.02706207, 0.15313961, 0.05135598, 0.        , 0.03616053,\n",
       "       0.01002039, 0.        , 0.09052975, 0.01977756, 0.00289549,\n",
       "       0.04394476, 0.00745711, 0.00283035, 0.17134241, 0.0165799 ,\n",
       "       0.01294196, 0.06325555, 0.06033496, 0.02318314, 0.13747074,\n",
       "       0.03230441, 0.04028041, 0.18014296, 0.        , 0.00204972,\n",
       "       0.07103743, 0.06061467, 0.        , 0.10306157, 0.        ,\n",
       "       0.        , 0.05575564, 0.00675313, 0.02415655, 0.11184732,\n",
       "       0.02214355, 0.06894978, 0.06939436, 0.06759521, 0.046175  ,\n",
       "       0.01668587, 0.06726764, 0.        , 0.04682043, 0.03920297,\n",
       "       0.03691519, 0.02243687, 0.        , 0.        , 0.0297121 ])"
      ]
     },
     "execution_count": 65,
     "metadata": {},
     "output_type": "execute_result"
    }
   ],
   "source": [
    "mi"
   ]
  },
  {
   "cell_type": "code",
   "execution_count": 66,
   "metadata": {},
   "outputs": [],
   "source": [
    "mi=pd.Series(mi)\n",
    "mi.index=X_train_unique.columns"
   ]
  },
  {
   "cell_type": "code",
   "execution_count": 67,
   "metadata": {},
   "outputs": [],
   "source": [
    "mi.sort_values(ascending=False, inplace=True)"
   ]
  },
  {
   "cell_type": "code",
   "execution_count": 68,
   "metadata": {},
   "outputs": [
    {
     "data": {
      "text/plain": [
       "<matplotlib.axes._subplots.AxesSubplot at 0x1c208bde248>"
      ]
     },
     "execution_count": 68,
     "metadata": {},
     "output_type": "execute_result"
    },
    {
     "data": {
      "image/png": "[encoded data removed]",
      "text/plain": [
       "<Figure size 1152x360 with 1 Axes>"
      ]
     },
     "metadata": {
      "needs_background": "light"
     },
     "output_type": "display_data"
    }
   ],
   "source": [
    "mi.plot.bar(figsize=(16,5))"
   ]
  },
  {
   "cell_type": "code",
   "execution_count": 69,
   "metadata": {},
   "outputs": [
    {
     "data": {
      "text/plain": [
       "Int64Index([2, 8, 11, 17, 23, 29, 32, 38, 44, 46], dtype='int64')"
      ]
     },
     "execution_count": 69,
     "metadata": {},
     "output_type": "execute_result"
    }
   ],
   "source": [
    "#we select 10 percentage of features k=10\n",
    "sel=SelectPercentile(mutual_info_classif,percentile=16).fit(X_train_unique,y_train)\n",
    "X_train_unique.columns[sel.get_support()]"
   ]
  },
  {
   "cell_type": "code",
   "execution_count": 70,
   "metadata": {},
   "outputs": [
    {
     "data": {
      "text/plain": [
       "10"
      ]
     },
     "execution_count": 70,
     "metadata": {},
     "output_type": "execute_result"
    }
   ],
   "source": [
    "len(X_train_unique.columns[sel.get_support()])"
   ]
  },
  {
   "cell_type": "code",
   "execution_count": 71,
   "metadata": {},
   "outputs": [],
   "source": [
    "X_train_mi=sel.transform(X_train_unique)\n",
    "X_test_mi=sel.transform(X_test_unique)"
   ]
  },
  {
   "cell_type": "code",
   "execution_count": 72,
   "metadata": {},
   "outputs": [
    {
     "data": {
      "text/plain": [
       "(662, 10)"
      ]
     },
     "execution_count": 72,
     "metadata": {},
     "output_type": "execute_result"
    }
   ],
   "source": [
    "X_train_mi.shape"
   ]
  },
  {
   "cell_type": "code",
   "execution_count": 73,
   "metadata": {},
   "outputs": [],
   "source": [
    "###build the model and compare the performance"
   ]
  },
  {
   "cell_type": "code",
   "execution_count": 74,
   "metadata": {},
   "outputs": [],
   "source": [
    "#calculate TP, TN,FN,FP\n",
    "def compute_tp_tn_fn_fp(actual_y, predicted_y):\n",
    "    #we define spam class(2) as positive rate, and not spam class(3) as negative rate\n",
    "    #True positive _ actual =2, predicted=2\n",
    "    #False positive _ actual=2, predicted=3\n",
    "    #False negative _ actual=3, predicted=2\n",
    "    #True negative _ actual=3, predicted=3\n",
    "    tp=sum((actual_y == 2) & (predicted_y == 2))\n",
    "    tn=sum((actual_y == 3) & (predicted_y == 3))\n",
    "    fn=sum((actual_y == 3) & (predicted_y == 2))\n",
    "    fp=sum((actual_y == 2) & (predicted_y == 3))\n",
    "    return tp, tn, fp, fn\n",
    "\n",
    "#calculate accuracy\n",
    "def compute_accuracy(tp,tn,fn,fp):\n",
    "    #Acurracy=TP+TN/FP+FN+TP+TN\n",
    "    return((tp+tn*100)/float(tp+tn+fn+fp) if (tp+tn+fn+fp) != 0 else 0)\n",
    "\n",
    "#calculate precission\n",
    "def compute_precision(tp,fp):\n",
    "    #Acurracy=TP/FP+TP\n",
    "      return((tp*100)/float(tp+fp) if (tp+fp) != 0 else 0)\n",
    "    \n",
    "#calculate recall\n",
    "def compute_recall(tp,fn):\n",
    "     #recall=TP/FN+TP\n",
    "        return ((tp*100)/float(tp+fn) if (tp+fn) != 0 else 0)\n",
    "    \n",
    "#calculate f1_score\n",
    "def compute_f1_score(actual_y, predicted_y):\n",
    "        tp,tn,fp,fn= compute_tp_tn_fn_fp(actual_y, predicted_y)\n",
    "        precision=compute_precision(tp,fp)/100 \n",
    "        recall=compute_recall(tp,fn)/100\n",
    "        f1_score=(2*precision*recall)/(precision+recall) if (precision+recall) != 0 else 0\n",
    "        return f1_score\n",
    "\n",
    "def performance_of_the_model(actual_y,predicted_y): \n",
    "    \n",
    "    tp_r,tn_r, fp_r,fn_r=compute_tp_tn_fn_fp(actual_y,predicted_y)\n",
    "    print('TP for dt is:',tp_r)\n",
    "    print('TN for dt is:',tn_r)\n",
    "    print('FP for dt is:',fp_r)\n",
    "    print('FN for dt is:',fn_r)\n",
    "    accuracy=compute_accuracy(tp_r,tn_r,fn_r,fp_r)\n",
    "    print('accuracy:', accuracy)\n",
    "    precision=compute_precision(tp_r,fp_r)\n",
    "    print('precision:', precision)\n",
    "    recall=compute_recall(tp_r,fn_r)\n",
    "    print('recall:', recall)\n",
    "    f1_score=compute_f1_score(actual_y,predicted_y)\n",
    "    print('f1_score:', f1_score)\n",
    "    return\n",
    "    "
   ]
  },
  {
   "cell_type": "code",
   "execution_count": 75,
   "metadata": {},
   "outputs": [
    {
     "data": {
      "text/plain": [
       "DecisionTreeClassifier(class_weight=None, criterion='entropy', max_depth=2,\n",
       "                       max_features=None, max_leaf_nodes=None,\n",
       "                       min_impurity_decrease=0.0, min_impurity_split=None,\n",
       "                       min_samples_leaf=1, min_samples_split=2,\n",
       "                       min_weight_fraction_leaf=0.0, presort=False,\n",
       "                       random_state=0, splitter='best')"
      ]
     },
     "execution_count": 75,
     "metadata": {},
     "output_type": "execute_result"
    }
   ],
   "source": [
    "#Decision Tree Classifier\n",
    "#Function to perform training with Entropy\n",
    "dt=DecisionTreeClassifier(criterion=\"entropy\", random_state=0, max_depth=2)\n",
    "dt.fit(X_train_mi, y_train)"
   ]
  },
  {
   "cell_type": "code",
   "execution_count": 76,
   "metadata": {},
   "outputs": [
    {
     "name": "stdout",
     "output_type": "stream",
     "text": [
      "[[ 10  11]\n",
      " [  5 140]]\n",
      "              precision    recall  f1-score   support\n",
      "\n",
      "         2.0       0.67      0.48      0.56        21\n",
      "         3.0       0.93      0.97      0.95       145\n",
      "\n",
      "    accuracy                           0.90       166\n",
      "   macro avg       0.80      0.72      0.75       166\n",
      "weighted avg       0.89      0.90      0.90       166\n",
      "\n",
      "TP for dt is: 10\n",
      "TN for dt is: 140\n",
      "FP for dt is: 11\n",
      "FN for dt is: 5\n",
      "accuracy: 84.39759036144578\n",
      "precision: 47.61904761904762\n",
      "recall: 66.66666666666667\n",
      "f1_score: 0.5555555555555556\n"
     ]
    }
   ],
   "source": [
    "# Function to make prediction\n",
    "y_pred_en=dt.predict(X_test_mi)\n",
    "#checking performance of the model\n",
    "print(confusion_matrix(y_test, y_pred_en))\n",
    "print(classification_report(y_test, y_pred_en))\n",
    "performance_of_the_model(y_test, y_pred_en)  \n",
    "\n"
   ]
  },
  {
   "cell_type": "code",
   "execution_count": 77,
   "metadata": {
    "scrolled": false
   },
   "outputs": [
    {
     "name": "stdout",
     "output_type": "stream",
     "text": [
      "[[ 11  10]\n",
      " [  6 139]]\n",
      "              precision    recall  f1-score   support\n",
      "\n",
      "         2.0       0.65      0.52      0.58        21\n",
      "         3.0       0.93      0.96      0.95       145\n",
      "\n",
      "    accuracy                           0.90       166\n",
      "   macro avg       0.79      0.74      0.76       166\n",
      "weighted avg       0.90      0.90      0.90       166\n",
      "\n",
      "TP for dt is: 11\n",
      "TN for dt is: 139\n",
      "FP for dt is: 10\n",
      "FN for dt is: 6\n",
      "accuracy: 83.8012048192771\n",
      "precision: 52.38095238095238\n",
      "recall: 64.70588235294117\n",
      "f1_score: 0.5789473684210527\n"
     ]
    },
    {
     "name": "stderr",
     "output_type": "stream",
     "text": [
      "C:\\Users\\SARA\\Anaconda3\\lib\\site-packages\\sklearn\\ensemble\\forest.py:245: FutureWarning: The default value of n_estimators will change from 10 in version 0.20 to 100 in 0.22.\n",
      "  \"10 in version 0.20 to 100 in 0.22.\", FutureWarning)\n"
     ]
    }
   ],
   "source": [
    "#Random Forest Classifier\n",
    "rfc=RandomForestClassifier(max_depth=2, random_state=0)\n",
    "rfc.fit(X_train_mi, y_train)\n",
    "predictionRF=rfc.predict(X_test_mi)\n",
    "#checking performance of the model\n",
    "print(confusion_matrix(y_test, predictionRF))\n",
    "print(classification_report(y_test, predictionRF))\n",
    "performance_of_the_model(y_test, predictionRF) "
   ]
  },
  {
   "cell_type": "code",
   "execution_count": 78,
   "metadata": {},
   "outputs": [
    {
     "data": {
      "text/plain": [
       "12.884098726725126"
      ]
     },
     "execution_count": 78,
     "metadata": {},
     "output_type": "execute_result"
    }
   ],
   "source": [
    "#define K\n",
    "import math\n",
    "math.sqrt(len(y_test))"
   ]
  },
  {
   "cell_type": "code",
   "execution_count": 79,
   "metadata": {},
   "outputs": [
    {
     "name": "stdout",
     "output_type": "stream",
     "text": [
      "[[ 10  11]\n",
      " [  9 136]]\n",
      "              precision    recall  f1-score   support\n",
      "\n",
      "         2.0       0.53      0.48      0.50        21\n",
      "         3.0       0.93      0.94      0.93       145\n",
      "\n",
      "    accuracy                           0.88       166\n",
      "   macro avg       0.73      0.71      0.72       166\n",
      "weighted avg       0.87      0.88      0.88       166\n",
      "\n",
      "TP for dt is: 10\n",
      "TN for dt is: 136\n",
      "FP for dt is: 11\n",
      "FN for dt is: 9\n",
      "accuracy: 81.98795180722891\n",
      "precision: 47.61904761904762\n",
      "recall: 52.63157894736842\n",
      "f1_score: 0.5\n"
     ]
    }
   ],
   "source": [
    "#K-NN classifier\n",
    "knn=KNeighborsClassifier(n_neighbors=11, p=2, metric='euclidean')\n",
    "\n",
    "#predict the test set results\n",
    "knn.fit(X_train_mi, y_train)\n",
    "predictionKNN=knn.predict(X_test_mi)\n",
    "#Evaluate model\n",
    "print(confusion_matrix(y_test, predictionKNN))\n",
    "print(classification_report(y_test, predictionKNN))\n",
    "performance_of_the_model(y_test, predictionKNN)"
   ]
  },
  {
   "cell_type": "code",
   "execution_count": 80,
   "metadata": {},
   "outputs": [
    {
     "name": "stdout",
     "output_type": "stream",
     "text": [
      "[[  9  12]\n",
      " [  4 141]]\n",
      "              precision    recall  f1-score   support\n",
      "\n",
      "         2.0       0.69      0.43      0.53        21\n",
      "         3.0       0.92      0.97      0.95       145\n",
      "\n",
      "    accuracy                           0.90       166\n",
      "   macro avg       0.81      0.70      0.74       166\n",
      "weighted avg       0.89      0.90      0.89       166\n",
      "\n",
      "TP for dt is: 9\n",
      "TN for dt is: 141\n",
      "FP for dt is: 12\n",
      "FN for dt is: 4\n",
      "accuracy: 84.99397590361446\n",
      "precision: 42.857142857142854\n",
      "recall: 69.23076923076923\n",
      "f1_score: 0.5294117647058824\n"
     ]
    }
   ],
   "source": [
    "# svm Classifier\n",
    "clf=svm.SVC(kernel=\"linear\", C=0.8,probability=True)\n",
    "clf.fit(X_train_mi,y_train)\n",
    "predictionSVM=clf.predict(X_test_mi)\n",
    "\n",
    "#Evaluate model\n",
    "print(confusion_matrix(y_test, predictionSVM))\n",
    "print(classification_report(y_test, predictionSVM))\n",
    "performance_of_the_model(y_test, predictionSVM)"
   ]
  },
  {
   "cell_type": "code",
   "execution_count": 81,
   "metadata": {},
   "outputs": [
    {
     "name": "stdout",
     "output_type": "stream",
     "text": [
      "[[ 11  10]\n",
      " [ 10 135]]\n",
      "              precision    recall  f1-score   support\n",
      "\n",
      "         2.0       0.52      0.52      0.52        21\n",
      "         3.0       0.93      0.93      0.93       145\n",
      "\n",
      "    accuracy                           0.88       166\n",
      "   macro avg       0.73      0.73      0.73       166\n",
      "weighted avg       0.88      0.88      0.88       166\n",
      "\n",
      "TP for dt is: 11\n",
      "TN for dt is: 135\n",
      "FP for dt is: 10\n",
      "FN for dt is: 10\n",
      "accuracy: 81.39156626506023\n",
      "precision: 52.38095238095238\n",
      "recall: 52.38095238095238\n",
      "f1_score: 0.5238095238095238\n"
     ]
    }
   ],
   "source": [
    "#Bagging Classifier\n",
    "bg=BaggingClassifier(DecisionTreeClassifier(), max_samples=0.5, max_features=1.0, n_estimators=10)\n",
    "bg=BaggingClassifier()\n",
    "bg.fit(X_train_mi,y_train)\n",
    "predictionbg=bg.predict(X_test_mi)\n",
    "\n",
    "#Evaluate model\n",
    "print(confusion_matrix(y_test, predictionbg))\n",
    "print(classification_report(y_test, predictionbg))\n",
    "performance_of_the_model(y_test, predictionbg)"
   ]
  },
  {
   "cell_type": "code",
   "execution_count": 82,
   "metadata": {},
   "outputs": [
    {
     "name": "stdout",
     "output_type": "stream",
     "text": [
      "[[ 12   9]\n",
      " [  9 136]]\n",
      "              precision    recall  f1-score   support\n",
      "\n",
      "         2.0       0.57      0.57      0.57        21\n",
      "         3.0       0.94      0.94      0.94       145\n",
      "\n",
      "    accuracy                           0.89       166\n",
      "   macro avg       0.75      0.75      0.75       166\n",
      "weighted avg       0.89      0.89      0.89       166\n",
      "\n",
      "TP for dt is: 12\n",
      "TN for dt is: 136\n",
      "FP for dt is: 9\n",
      "FN for dt is: 9\n",
      "accuracy: 82.0\n",
      "precision: 57.142857142857146\n",
      "recall: 57.142857142857146\n",
      "f1_score: 0.5714285714285715\n"
     ]
    }
   ],
   "source": [
    "#Boosting Classifier- Ada Boost\n",
    "adb=AdaBoostClassifier(DecisionTreeClassifier(), n_estimators=10, learning_rate=1)\n",
    "adb.fit(X_train_mi,y_train)\n",
    "predictionadb=adb.predict(X_test_mi)\n",
    "\n",
    "#Evaluate model\n",
    "print(confusion_matrix(y_test, predictionadb))\n",
    "print(classification_report(y_test, predictionadb))\n",
    "performance_of_the_model(y_test, predictionadb)"
   ]
  },
  {
   "cell_type": "code",
   "execution_count": 83,
   "metadata": {},
   "outputs": [
    {
     "name": "stdout",
     "output_type": "stream",
     "text": [
      "[[20  1]\n",
      " [94 51]]\n",
      "              precision    recall  f1-score   support\n",
      "\n",
      "         2.0       0.18      0.95      0.30        21\n",
      "         3.0       0.98      0.35      0.52       145\n",
      "\n",
      "    accuracy                           0.43       166\n",
      "   macro avg       0.58      0.65      0.41       166\n",
      "weighted avg       0.88      0.43      0.49       166\n",
      "\n",
      "TP for dt is: 20\n",
      "TN for dt is: 51\n",
      "FP for dt is: 1\n",
      "FN for dt is: 94\n",
      "accuracy: 30.843373493975903\n",
      "precision: 95.23809523809524\n",
      "recall: 17.54385964912281\n",
      "f1_score: 0.29629629629629634\n"
     ]
    }
   ],
   "source": [
    "#Naive bayse Classifier\n",
    "nb=GaussianNB()\n",
    "nb.fit(X_train_mi,y_train)\n",
    "predictionnb=nb.predict(X_test_mi)\n",
    "\n",
    "#Evaluate model\n",
    "print(confusion_matrix(y_test, predictionnb))\n",
    "print(classification_report(y_test, predictionnb))\n",
    "performance_of_the_model(y_test, predictionnb)"
   ]
  },
  {
   "cell_type": "code",
   "execution_count": 84,
   "metadata": {},
   "outputs": [
    {
     "name": "stdout",
     "output_type": "stream",
     "text": [
      "[[ 13   8]\n",
      " [  8 137]]\n",
      "              precision    recall  f1-score   support\n",
      "\n",
      "         2.0       0.62      0.62      0.62        21\n",
      "         3.0       0.94      0.94      0.94       145\n",
      "\n",
      "    accuracy                           0.90       166\n",
      "   macro avg       0.78      0.78      0.78       166\n",
      "weighted avg       0.90      0.90      0.90       166\n",
      "\n",
      "TP for dt is: 13\n",
      "TN for dt is: 137\n",
      "FP for dt is: 8\n",
      "FN for dt is: 8\n",
      "accuracy: 82.60843373493977\n",
      "precision: 61.904761904761905\n",
      "recall: 61.904761904761905\n",
      "f1_score: 0.6190476190476191\n"
     ]
    }
   ],
   "source": [
    "#creat Multilayer neural network Classifier\n",
    "nn=MLPClassifier(solver='lbfgs', alpha=1e-5,hidden_layer_sizes=(5, 2), random_state=1)\n",
    "nn.fit(X_train_mi,y_train)\n",
    "predictionNN=nn.predict(X_test_mi)\n",
    "\n",
    "#Evaluate model\n",
    "print(confusion_matrix(y_test, predictionNN))\n",
    "print(classification_report(y_test, predictionNN))\n",
    "performance_of_the_model(y_test, predictionNN)\n",
    "\n"
   ]
  },
  {
   "cell_type": "code",
   "execution_count": 85,
   "metadata": {},
   "outputs": [
    {
     "name": "stdout",
     "output_type": "stream",
     "text": [
      "[[ 12   9]\n",
      " [ 10 135]]\n",
      "              precision    recall  f1-score   support\n",
      "\n",
      "         2.0       0.55      0.57      0.56        21\n",
      "         3.0       0.94      0.93      0.93       145\n",
      "\n",
      "    accuracy                           0.89       166\n",
      "   macro avg       0.74      0.75      0.75       166\n",
      "weighted avg       0.89      0.89      0.89       166\n",
      "\n",
      "TP for dt is: 12\n",
      "TN for dt is: 135\n",
      "FP for dt is: 9\n",
      "FN for dt is: 10\n",
      "accuracy: 81.39759036144578\n",
      "precision: 57.142857142857146\n",
      "recall: 54.54545454545455\n",
      "f1_score: 0.5581395348837208\n"
     ]
    }
   ],
   "source": [
    "#Voting Classifier- Multiple Model Ensemble\n",
    "evc=VotingClassifier(estimators=[('dt',dt),('rfc',rfc),('clf',clf),('knn',knn),('bg',bg),('adb',adb),('nb',nb),('nn',nn)], voting='soft')\n",
    "evc.fit(X_train_mi,y_train)\n",
    "predictionevc=evc.predict(X_test_mi)\n",
    "\n",
    "#Evaluate model\n",
    "print(confusion_matrix(y_test, predictionevc))\n",
    "print(classification_report(y_test, predictionevc))\n",
    "performance_of_the_model(y_test, predictionevc)"
   ]
  },
  {
   "cell_type": "code",
   "execution_count": 86,
   "metadata": {},
   "outputs": [],
   "source": [
    "#defining learning classifiers\n",
    "names=[\"Decision_Tree\", \"Random_Forest\", \"linear_SVM\",\"Nearest_Neighbors\",\"Bagging\",\"AdaBoost\",\"Naive_Bayes\",\"Neural_Net\",\"Vothing_classifier\"]\n",
    "classifiers = [dt,rfc,clf,knn,bg,adb,nb,nn,evc]\n",
    "\n",
    "#Build Model, Apply Model on Test Data & Record Accuracy Scores\n",
    "scores = []\n",
    "Fmeasure=[]\n",
    "for name, clf in zip(names, classifiers):\n",
    "    clf.fit(X_train_mi, y_train)\n",
    "    prediction=clf.predict(X_test_mi)\n",
    "    scores.append(compute_tp_tn_fn_fp(y_test, prediction))\n",
    "    f1_score=compute_f1_score(y_test,prediction)\n",
    "    Fmeasure.append(f1_score)\n",
    "    "
   ]
  },
  {
   "cell_type": "code",
   "execution_count": 87,
   "metadata": {},
   "outputs": [
    {
     "data": {
      "text/plain": [
       "[(10, 140, 11, 5),\n",
       " (11, 139, 10, 6),\n",
       " (9, 141, 12, 4),\n",
       " (10, 136, 11, 9),\n",
       " (16, 133, 5, 12),\n",
       " (11, 137, 10, 8),\n",
       " (20, 51, 1, 94),\n",
       " (13, 137, 8, 8),\n",
       " (12, 133, 9, 12)]"
      ]
     },
     "execution_count": 87,
     "metadata": {},
     "output_type": "execute_result"
    }
   ],
   "source": [
    "scores"
   ]
  },
  {
   "cell_type": "code",
   "execution_count": 88,
   "metadata": {},
   "outputs": [],
   "source": [
    "tp=[i[0] for i in scores]"
   ]
  },
  {
   "cell_type": "code",
   "execution_count": 89,
   "metadata": {},
   "outputs": [
    {
     "data": {
      "text/plain": [
       "[10, 11, 9, 10, 16, 11, 20, 13, 12]"
      ]
     },
     "execution_count": 89,
     "metadata": {},
     "output_type": "execute_result"
    }
   ],
   "source": [
    "tp"
   ]
  },
  {
   "cell_type": "code",
   "execution_count": 90,
   "metadata": {},
   "outputs": [],
   "source": [
    "fp=[i[2] for i in scores]"
   ]
  },
  {
   "cell_type": "code",
   "execution_count": 91,
   "metadata": {},
   "outputs": [
    {
     "data": {
      "text/plain": [
       "[11, 10, 12, 11, 5, 10, 1, 8, 9]"
      ]
     },
     "execution_count": 91,
     "metadata": {},
     "output_type": "execute_result"
    }
   ],
   "source": [
    "fp"
   ]
  },
  {
   "cell_type": "code",
   "execution_count": 92,
   "metadata": {},
   "outputs": [
    {
     "data": {
      "text/plain": [
       "[0.5555555555555556,\n",
       " 0.5789473684210527,\n",
       " 0.5294117647058824,\n",
       " 0.5,\n",
       " 0.6530612244897959,\n",
       " 0.5500000000000002,\n",
       " 0.29629629629629634,\n",
       " 0.6190476190476191,\n",
       " 0.5333333333333333]"
      ]
     },
     "execution_count": 92,
     "metadata": {},
     "output_type": "execute_result"
    }
   ],
   "source": [
    "Fmeasure"
   ]
  },
  {
   "cell_type": "code",
   "execution_count": 93,
   "metadata": {},
   "outputs": [
    {
     "name": "stdout",
     "output_type": "stream",
     "text": [
      "Random (chance) Prediction: AUROC = 0.500\n",
      "Decision_Tree: AUROC = 0.828\n",
      "Random_Forest: AUROC = 0.879\n",
      "linear_SVM: AUROC = 0.890\n",
      "Nearest_Neighbors: AUROC = 0.876\n",
      "Bagging: AUROC = 0.876\n",
      "AdaBoost: AUROC = 0.837\n",
      "Naive Bayes: AUROC = 0.852\n",
      "Neural_Net: AUROC = 0.847\n",
      "Vothing_classifier: AUROC = 0.890\n"
     ]
    },
    {
     "name": "stderr",
     "output_type": "stream",
     "text": [
      "C:\\Users\\SARA\\Anaconda3\\lib\\site-packages\\sklearn\\metrics\\ranking.py:659: UndefinedMetricWarning: No positive samples in y_true, true positive value should be meaningless\n",
      "  UndefinedMetricWarning)\n"
     ]
    }
   ],
   "source": [
    "\n",
    "\n",
    "# #defining learning classifiers\n",
    "# names=[\"Decision_Tree\", \"Random_Forest\", \"linear_SVM\",\"Nearest_Neighbors\",\"Bagging\",\"AdaBoost\",\"Naive_Bayes\",\"Neural_Net\",\"Vothing_classifier\"]\n",
    "# classifiers = [dt,rfc,clf,knn,bg,adb,nb,nn,evc]\n",
    "#define Prediction probabilities\n",
    "r_probs_ = [0 for _ in range(len(y_test))]\n",
    "dt_probs = dt.predict_proba(X_test_mi)\n",
    "rfc_probs = rfc.predict_proba(X_test_mi)\n",
    "clf_probs = clf.predict_proba(X_test_mi)\n",
    "knn_probs = knn.predict_proba(X_test_mi)\n",
    "bg_probs = bg.predict_proba(X_test_mi)\n",
    "adb_probs = adb.predict_proba(X_test_mi)\n",
    "nb_probs = nb.predict_proba(X_test_mi)\n",
    "nn_probs = nn.predict_proba(X_test_mi)\n",
    "evc_probs = evc.predict_proba(X_test_mi)\n",
    "\n",
    "#Probabilities for the positive outcome is kept\n",
    "dt_probs_ = dt_probs[:,1]\n",
    "rfc_probs_ = rfc_probs[:,1]\n",
    "clf_probs_ = clf_probs[:,1]\n",
    "knn_probs_ = knn_probs[:,1]\n",
    "bg_probs_ = bg_probs[:,1]\n",
    "adb_probs_ = adb_probs[:,1]\n",
    "nb_probs_ = nb_probs[:,1]\n",
    "nn_probs_ = nn_probs[:,1]\n",
    "evc_probs_ = evc_probs[:,1]\n",
    "#ROC is the receiver operating characteristic AUROC is the area under the ROC curve\n",
    "result=[]\n",
    "r_auc = roc_auc_score(y_test, r_probs_)\n",
    "dt_auc = roc_auc_score(y_test, dt_probs_)\n",
    "result.append(dt_auc)\n",
    "rfc_auc = roc_auc_score(y_test, rfc_probs_)\n",
    "result.append(rfc_auc)\n",
    "clf_auc = roc_auc_score(y_test, clf_probs_)\n",
    "result.append(clf_auc)\n",
    "knn_auc = roc_auc_score(y_test, knn_probs_)\n",
    "result.append(knn_auc)\n",
    "bg_auc = roc_auc_score(y_test, bg_probs_)\n",
    "result.append(bg_auc)\n",
    "adb_auc = roc_auc_score(y_test, adb_probs_)\n",
    "result.append(adb_auc)\n",
    "nb_auc = roc_auc_score(y_test, nb_probs_)\n",
    "result.append(nb_auc)\n",
    "nn_auc = roc_auc_score(y_test, nn_probs_)\n",
    "result.append(nn_auc)\n",
    "evc_auc = roc_auc_score(y_test, evc_probs_)\n",
    "result.append(evc_auc)\n",
    "\n",
    "#Print AUROC scores\n",
    "print('Random (chance) Prediction: AUROC = %.3f' % (r_auc))\n",
    "print('Decision_Tree: AUROC = %.3f' % (dt_auc))\n",
    "print('Random_Forest: AUROC = %.3f' % (rfc_auc))\n",
    "print('linear_SVM: AUROC = %.3f' % (clf_auc))\n",
    "print('Nearest_Neighbors: AUROC = %.3f' % (knn_auc))\n",
    "print('Bagging: AUROC = %.3f' % (bg_auc))\n",
    "print('AdaBoost: AUROC = %.3f' % (adb_auc))\n",
    "print('Naive Bayes: AUROC = %.3f' % (nb_auc))\n",
    "print('Neural_Net: AUROC = %.3f' % (nn_auc))\n",
    "print('Vothing_classifier: AUROC = %.3f' % (evc_auc))\n",
    "\n",
    "#Calculate ROC curve\n",
    "r_fpr, r_tpr, threshold = roc_curve(y_test, r_probs_,pos_label=1,drop_intermediate=True)\n",
    "dt_fpr, dt_tpr, threshold = roc_curve(y_test, dt_probs_,pos_label=1,drop_intermediate=True)\n",
    "rfc_fpr, rfc_tpr, threshold = roc_curve(y_test, rfc_probs_,pos_label=1,drop_intermediate=True)\n",
    "clf_fpr, clf_tpr, threshold= roc_curve(y_test, clf_probs_,pos_label=1,drop_intermediate=True)\n",
    "knn_fpr, knn_tpr,threshold = roc_curve(y_test, knn_probs_,pos_label=1,drop_intermediate=True)\n",
    "bg_fpr, bg_tpr, threshold= roc_curve(y_test, bg_probs_,pos_label=1,drop_intermediate=True)\n",
    "adb_fpr, adb_tpr, threshold = roc_curve(y_test, adb_probs_,pos_label=1,drop_intermediate=True)\n",
    "nb_fpr, nb_tpr, threshold = roc_curve(y_test, nb_probs_,pos_label=1,drop_intermediate=True)\n",
    "nn_fpr, nb_tpr, threshold = roc_curve(y_test, nn_probs_,pos_label=1,drop_intermediate=True)\n",
    "evc_fpr, evc_tpr, threshold= roc_curve(y_test, evc_probs_,pos_label=1,drop_intermediate=True)\n",
    "\n",
    "\n",
    "# #Plot the ROC curve\n",
    "# plt.plot(r_fpr, r_tpr, linestyle='--', label='Random prediction (AUROC = %0.3f)' % r_auc)\n",
    "# plt.plot(dt_fpr, dt_tpr, marker='.', label='Random Forest (AUROC = %0.3f)' % dt_auc)\n",
    "# plt.plot(rfc_fpr, rfc_tpr, marker='.', label='Naive Bayes (AUROC = %0.3f)' % rfc_auc)\n",
    "# plt.plot(clf_fpr, clf_tpr, marker='.', label='linear_SVM (AUROC = %0.3f)' % clf_auc)\n",
    "# plt.plot(knn_fpr, knn_tpr, marker='.', label='Nearest_Neighbors(AUROC = %0.3f)' % knn_auc)\n",
    "# plt.plot(bg_fpr, bg_tpr, marker='.', label='Bagging (AUROC = %0.3f)' % bg_auc)\n",
    "# plt.plot(adb_fpr, adb_tpr, marker='.', label='AdaBoost (AUROC = %0.3f)' % adb_auc)\n",
    "# plt.plot(nb_fpr, nb_tpr, marker='.', label='Naive_Bayes (AUROC = %0.3f)' % nb_auc)\n",
    "# plt.plot(nn_fpr, nn_tpr, marker='.', label='Neural_Net (AUROC = %0.3f)' % nn_auc)\n",
    "# plt.plot(evc_fpr, evc_tpr, marker='.', label='Vothing_classifier (AUROC = %0.3f)' % evc_auc)\n",
    "# # Title\n",
    "# plt.title('ROC Plot')\n",
    "# plt.legend(loc = 'lower right')\n",
    "# plt.plot([0, 1], [0, 1],'r--')\n",
    "# plt.xlim([0, 1])\n",
    "# plt.ylim([0, 1])\n",
    "# plt.ylabel('True Positive Rate')\n",
    "# plt.xlabel('False Positive Rate')\n",
    "# plt.show()"
   ]
  },
  {
   "cell_type": "code",
   "execution_count": 94,
   "metadata": {},
   "outputs": [
    {
     "data": {
      "text/plain": [
       "[0.8275862068965517,\n",
       " 0.8786535303776682,\n",
       " 0.8899835796387521,\n",
       " 0.8756978653530377,\n",
       " 0.8758620689655172,\n",
       " 0.8374384236453202,\n",
       " 0.8517241379310345,\n",
       " 0.8472906403940886,\n",
       " 0.8899835796387521]"
      ]
     },
     "execution_count": 94,
     "metadata": {},
     "output_type": "execute_result"
    }
   ],
   "source": [
    "result"
   ]
  },
  {
   "cell_type": "code",
   "execution_count": 95,
   "metadata": {},
   "outputs": [],
   "source": [
    "#create data frame of model performance\n",
    "df = pd.DataFrame()\n",
    "df['Machine Learning algorithms'] = names\n",
    "df['F-measure-YouTube-IG'] = Fmeasure \n",
    "df['TP-YouTube-IG']=tp\n",
    "df['FP-YouTube-IG']=fp\n",
    "df['AUC-YouTube-IG']=result"
   ]
  },
  {
   "cell_type": "code",
   "execution_count": 96,
   "metadata": {},
   "outputs": [
    {
     "data": {
      "text/html": [
       "<style  type=\"text/css\" >\n",
       "    #T_c0c5ba8a_1e54_11eb_9177_d053490e15f2row0_col1 {\n",
       "            background-color:  #3ea2a2;\n",
       "            color:  #000000;\n",
       "        }    #T_c0c5ba8a_1e54_11eb_9177_d053490e15f2row0_col2 {\n",
       "            background-color:  #d1f4f4;\n",
       "            color:  #000000;\n",
       "        }    #T_c0c5ba8a_1e54_11eb_9177_d053490e15f2row0_col3 {\n",
       "            background-color:  #158b8b;\n",
       "            color:  #000000;\n",
       "        }    #T_c0c5ba8a_1e54_11eb_9177_d053490e15f2row0_col4 {\n",
       "            background-color:  #e5ffff;\n",
       "            color:  #000000;\n",
       "        }    #T_c0c5ba8a_1e54_11eb_9177_d053490e15f2row1_col1 {\n",
       "            background-color:  #309a9a;\n",
       "            color:  #000000;\n",
       "        }    #T_c0c5ba8a_1e54_11eb_9177_d053490e15f2row1_col2 {\n",
       "            background-color:  #bce8e8;\n",
       "            color:  #000000;\n",
       "        }    #T_c0c5ba8a_1e54_11eb_9177_d053490e15f2row1_col3 {\n",
       "            background-color:  #299797;\n",
       "            color:  #000000;\n",
       "        }    #T_c0c5ba8a_1e54_11eb_9177_d053490e15f2row1_col4 {\n",
       "            background-color:  #299797;\n",
       "            color:  #000000;\n",
       "        }    #T_c0c5ba8a_1e54_11eb_9177_d053490e15f2row2_col1 {\n",
       "            background-color:  #4facac;\n",
       "            color:  #000000;\n",
       "        }    #T_c0c5ba8a_1e54_11eb_9177_d053490e15f2row2_col2 {\n",
       "            background-color:  #e5ffff;\n",
       "            color:  #000000;\n",
       "        }    #T_c0c5ba8a_1e54_11eb_9177_d053490e15f2row2_col3 {\n",
       "            background-color:  #008080;\n",
       "            color:  #f1f1f1;\n",
       "        }    #T_c0c5ba8a_1e54_11eb_9177_d053490e15f2row2_col4 {\n",
       "            background-color:  #008080;\n",
       "            color:  #f1f1f1;\n",
       "        }    #T_c0c5ba8a_1e54_11eb_9177_d053490e15f2row3_col1 {\n",
       "            background-color:  #62b6b6;\n",
       "            color:  #000000;\n",
       "        }    #T_c0c5ba8a_1e54_11eb_9177_d053490e15f2row3_col2 {\n",
       "            background-color:  #d1f4f4;\n",
       "            color:  #000000;\n",
       "        }    #T_c0c5ba8a_1e54_11eb_9177_d053490e15f2row3_col3 {\n",
       "            background-color:  #158b8b;\n",
       "            color:  #000000;\n",
       "        }    #T_c0c5ba8a_1e54_11eb_9177_d053490e15f2row3_col4 {\n",
       "            background-color:  #349d9d;\n",
       "            color:  #000000;\n",
       "        }    #T_c0c5ba8a_1e54_11eb_9177_d053490e15f2row4_col1 {\n",
       "            background-color:  #008080;\n",
       "            color:  #f1f1f1;\n",
       "        }    #T_c0c5ba8a_1e54_11eb_9177_d053490e15f2row4_col2 {\n",
       "            background-color:  #54aeae;\n",
       "            color:  #000000;\n",
       "        }    #T_c0c5ba8a_1e54_11eb_9177_d053490e15f2row4_col3 {\n",
       "            background-color:  #92d1d1;\n",
       "            color:  #000000;\n",
       "        }    #T_c0c5ba8a_1e54_11eb_9177_d053490e15f2row4_col4 {\n",
       "            background-color:  #339c9c;\n",
       "            color:  #000000;\n",
       "        }    #T_c0c5ba8a_1e54_11eb_9177_d053490e15f2row5_col1 {\n",
       "            background-color:  #42a4a4;\n",
       "            color:  #000000;\n",
       "        }    #T_c0c5ba8a_1e54_11eb_9177_d053490e15f2row5_col2 {\n",
       "            background-color:  #bce8e8;\n",
       "            color:  #000000;\n",
       "        }    #T_c0c5ba8a_1e54_11eb_9177_d053490e15f2row5_col3 {\n",
       "            background-color:  #299797;\n",
       "            color:  #000000;\n",
       "        }    #T_c0c5ba8a_1e54_11eb_9177_d053490e15f2row5_col4 {\n",
       "            background-color:  #c2ebeb;\n",
       "            color:  #000000;\n",
       "        }    #T_c0c5ba8a_1e54_11eb_9177_d053490e15f2row6_col1 {\n",
       "            background-color:  #e5ffff;\n",
       "            color:  #000000;\n",
       "        }    #T_c0c5ba8a_1e54_11eb_9177_d053490e15f2row6_col2 {\n",
       "            background-color:  #008080;\n",
       "            color:  #f1f1f1;\n",
       "        }    #T_c0c5ba8a_1e54_11eb_9177_d053490e15f2row6_col3 {\n",
       "            background-color:  #e5ffff;\n",
       "            color:  #000000;\n",
       "        }    #T_c0c5ba8a_1e54_11eb_9177_d053490e15f2row6_col4 {\n",
       "            background-color:  #8ccece;\n",
       "            color:  #000000;\n",
       "        }    #T_c0c5ba8a_1e54_11eb_9177_d053490e15f2row7_col1 {\n",
       "            background-color:  #168c8c;\n",
       "            color:  #000000;\n",
       "        }    #T_c0c5ba8a_1e54_11eb_9177_d053490e15f2row7_col2 {\n",
       "            background-color:  #92d1d1;\n",
       "            color:  #000000;\n",
       "        }    #T_c0c5ba8a_1e54_11eb_9177_d053490e15f2row7_col3 {\n",
       "            background-color:  #54aeae;\n",
       "            color:  #000000;\n",
       "        }    #T_c0c5ba8a_1e54_11eb_9177_d053490e15f2row7_col4 {\n",
       "            background-color:  #9ed7d7;\n",
       "            color:  #000000;\n",
       "        }    #T_c0c5ba8a_1e54_11eb_9177_d053490e15f2row8_col1 {\n",
       "            background-color:  #4daaaa;\n",
       "            color:  #000000;\n",
       "        }    #T_c0c5ba8a_1e54_11eb_9177_d053490e15f2row8_col2 {\n",
       "            background-color:  #a7dddd;\n",
       "            color:  #000000;\n",
       "        }    #T_c0c5ba8a_1e54_11eb_9177_d053490e15f2row8_col3 {\n",
       "            background-color:  #3ea2a2;\n",
       "            color:  #000000;\n",
       "        }    #T_c0c5ba8a_1e54_11eb_9177_d053490e15f2row8_col4 {\n",
       "            background-color:  #008080;\n",
       "            color:  #f1f1f1;\n",
       "        }</style><table id=\"T_c0c5ba8a_1e54_11eb_9177_d053490e15f2\" ><thead>    <tr>        <th class=\"blank level0\" ></th>        <th class=\"col_heading level0 col0\" >Machine Learning algorithms</th>        <th class=\"col_heading level0 col1\" >F-measure-YouTube-IG</th>        <th class=\"col_heading level0 col2\" >TP-YouTube-IG</th>        <th class=\"col_heading level0 col3\" >FP-YouTube-IG</th>        <th class=\"col_heading level0 col4\" >AUC-YouTube-IG</th>    </tr></thead><tbody>\n",
       "                <tr>\n",
       "                        <th id=\"T_c0c5ba8a_1e54_11eb_9177_d053490e15f2level0_row0\" class=\"row_heading level0 row0\" >0</th>\n",
       "                        <td id=\"T_c0c5ba8a_1e54_11eb_9177_d053490e15f2row0_col0\" class=\"data row0 col0\" >Decision_Tree</td>\n",
       "                        <td id=\"T_c0c5ba8a_1e54_11eb_9177_d053490e15f2row0_col1\" class=\"data row0 col1\" >0.555556</td>\n",
       "                        <td id=\"T_c0c5ba8a_1e54_11eb_9177_d053490e15f2row0_col2\" class=\"data row0 col2\" >10</td>\n",
       "                        <td id=\"T_c0c5ba8a_1e54_11eb_9177_d053490e15f2row0_col3\" class=\"data row0 col3\" >11</td>\n",
       "                        <td id=\"T_c0c5ba8a_1e54_11eb_9177_d053490e15f2row0_col4\" class=\"data row0 col4\" >0.827586</td>\n",
       "            </tr>\n",
       "            <tr>\n",
       "                        <th id=\"T_c0c5ba8a_1e54_11eb_9177_d053490e15f2level0_row1\" class=\"row_heading level0 row1\" >1</th>\n",
       "                        <td id=\"T_c0c5ba8a_1e54_11eb_9177_d053490e15f2row1_col0\" class=\"data row1 col0\" >Random_Forest</td>\n",
       "                        <td id=\"T_c0c5ba8a_1e54_11eb_9177_d053490e15f2row1_col1\" class=\"data row1 col1\" >0.578947</td>\n",
       "                        <td id=\"T_c0c5ba8a_1e54_11eb_9177_d053490e15f2row1_col2\" class=\"data row1 col2\" >11</td>\n",
       "                        <td id=\"T_c0c5ba8a_1e54_11eb_9177_d053490e15f2row1_col3\" class=\"data row1 col3\" >10</td>\n",
       "                        <td id=\"T_c0c5ba8a_1e54_11eb_9177_d053490e15f2row1_col4\" class=\"data row1 col4\" >0.878654</td>\n",
       "            </tr>\n",
       "            <tr>\n",
       "                        <th id=\"T_c0c5ba8a_1e54_11eb_9177_d053490e15f2level0_row2\" class=\"row_heading level0 row2\" >2</th>\n",
       "                        <td id=\"T_c0c5ba8a_1e54_11eb_9177_d053490e15f2row2_col0\" class=\"data row2 col0\" >linear_SVM</td>\n",
       "                        <td id=\"T_c0c5ba8a_1e54_11eb_9177_d053490e15f2row2_col1\" class=\"data row2 col1\" >0.529412</td>\n",
       "                        <td id=\"T_c0c5ba8a_1e54_11eb_9177_d053490e15f2row2_col2\" class=\"data row2 col2\" >9</td>\n",
       "                        <td id=\"T_c0c5ba8a_1e54_11eb_9177_d053490e15f2row2_col3\" class=\"data row2 col3\" >12</td>\n",
       "                        <td id=\"T_c0c5ba8a_1e54_11eb_9177_d053490e15f2row2_col4\" class=\"data row2 col4\" >0.889984</td>\n",
       "            </tr>\n",
       "            <tr>\n",
       "                        <th id=\"T_c0c5ba8a_1e54_11eb_9177_d053490e15f2level0_row3\" class=\"row_heading level0 row3\" >3</th>\n",
       "                        <td id=\"T_c0c5ba8a_1e54_11eb_9177_d053490e15f2row3_col0\" class=\"data row3 col0\" >Nearest_Neighbors</td>\n",
       "                        <td id=\"T_c0c5ba8a_1e54_11eb_9177_d053490e15f2row3_col1\" class=\"data row3 col1\" >0.5</td>\n",
       "                        <td id=\"T_c0c5ba8a_1e54_11eb_9177_d053490e15f2row3_col2\" class=\"data row3 col2\" >10</td>\n",
       "                        <td id=\"T_c0c5ba8a_1e54_11eb_9177_d053490e15f2row3_col3\" class=\"data row3 col3\" >11</td>\n",
       "                        <td id=\"T_c0c5ba8a_1e54_11eb_9177_d053490e15f2row3_col4\" class=\"data row3 col4\" >0.875698</td>\n",
       "            </tr>\n",
       "            <tr>\n",
       "                        <th id=\"T_c0c5ba8a_1e54_11eb_9177_d053490e15f2level0_row4\" class=\"row_heading level0 row4\" >4</th>\n",
       "                        <td id=\"T_c0c5ba8a_1e54_11eb_9177_d053490e15f2row4_col0\" class=\"data row4 col0\" >Bagging</td>\n",
       "                        <td id=\"T_c0c5ba8a_1e54_11eb_9177_d053490e15f2row4_col1\" class=\"data row4 col1\" >0.653061</td>\n",
       "                        <td id=\"T_c0c5ba8a_1e54_11eb_9177_d053490e15f2row4_col2\" class=\"data row4 col2\" >16</td>\n",
       "                        <td id=\"T_c0c5ba8a_1e54_11eb_9177_d053490e15f2row4_col3\" class=\"data row4 col3\" >5</td>\n",
       "                        <td id=\"T_c0c5ba8a_1e54_11eb_9177_d053490e15f2row4_col4\" class=\"data row4 col4\" >0.875862</td>\n",
       "            </tr>\n",
       "            <tr>\n",
       "                        <th id=\"T_c0c5ba8a_1e54_11eb_9177_d053490e15f2level0_row5\" class=\"row_heading level0 row5\" >5</th>\n",
       "                        <td id=\"T_c0c5ba8a_1e54_11eb_9177_d053490e15f2row5_col0\" class=\"data row5 col0\" >AdaBoost</td>\n",
       "                        <td id=\"T_c0c5ba8a_1e54_11eb_9177_d053490e15f2row5_col1\" class=\"data row5 col1\" >0.55</td>\n",
       "                        <td id=\"T_c0c5ba8a_1e54_11eb_9177_d053490e15f2row5_col2\" class=\"data row5 col2\" >11</td>\n",
       "                        <td id=\"T_c0c5ba8a_1e54_11eb_9177_d053490e15f2row5_col3\" class=\"data row5 col3\" >10</td>\n",
       "                        <td id=\"T_c0c5ba8a_1e54_11eb_9177_d053490e15f2row5_col4\" class=\"data row5 col4\" >0.837438</td>\n",
       "            </tr>\n",
       "            <tr>\n",
       "                        <th id=\"T_c0c5ba8a_1e54_11eb_9177_d053490e15f2level0_row6\" class=\"row_heading level0 row6\" >6</th>\n",
       "                        <td id=\"T_c0c5ba8a_1e54_11eb_9177_d053490e15f2row6_col0\" class=\"data row6 col0\" >Naive_Bayes</td>\n",
       "                        <td id=\"T_c0c5ba8a_1e54_11eb_9177_d053490e15f2row6_col1\" class=\"data row6 col1\" >0.296296</td>\n",
       "                        <td id=\"T_c0c5ba8a_1e54_11eb_9177_d053490e15f2row6_col2\" class=\"data row6 col2\" >20</td>\n",
       "                        <td id=\"T_c0c5ba8a_1e54_11eb_9177_d053490e15f2row6_col3\" class=\"data row6 col3\" >1</td>\n",
       "                        <td id=\"T_c0c5ba8a_1e54_11eb_9177_d053490e15f2row6_col4\" class=\"data row6 col4\" >0.851724</td>\n",
       "            </tr>\n",
       "            <tr>\n",
       "                        <th id=\"T_c0c5ba8a_1e54_11eb_9177_d053490e15f2level0_row7\" class=\"row_heading level0 row7\" >7</th>\n",
       "                        <td id=\"T_c0c5ba8a_1e54_11eb_9177_d053490e15f2row7_col0\" class=\"data row7 col0\" >Neural_Net</td>\n",
       "                        <td id=\"T_c0c5ba8a_1e54_11eb_9177_d053490e15f2row7_col1\" class=\"data row7 col1\" >0.619048</td>\n",
       "                        <td id=\"T_c0c5ba8a_1e54_11eb_9177_d053490e15f2row7_col2\" class=\"data row7 col2\" >13</td>\n",
       "                        <td id=\"T_c0c5ba8a_1e54_11eb_9177_d053490e15f2row7_col3\" class=\"data row7 col3\" >8</td>\n",
       "                        <td id=\"T_c0c5ba8a_1e54_11eb_9177_d053490e15f2row7_col4\" class=\"data row7 col4\" >0.847291</td>\n",
       "            </tr>\n",
       "            <tr>\n",
       "                        <th id=\"T_c0c5ba8a_1e54_11eb_9177_d053490e15f2level0_row8\" class=\"row_heading level0 row8\" >8</th>\n",
       "                        <td id=\"T_c0c5ba8a_1e54_11eb_9177_d053490e15f2row8_col0\" class=\"data row8 col0\" >Vothing_classifier</td>\n",
       "                        <td id=\"T_c0c5ba8a_1e54_11eb_9177_d053490e15f2row8_col1\" class=\"data row8 col1\" >0.533333</td>\n",
       "                        <td id=\"T_c0c5ba8a_1e54_11eb_9177_d053490e15f2row8_col2\" class=\"data row8 col2\" >12</td>\n",
       "                        <td id=\"T_c0c5ba8a_1e54_11eb_9177_d053490e15f2row8_col3\" class=\"data row8 col3\" >9</td>\n",
       "                        <td id=\"T_c0c5ba8a_1e54_11eb_9177_d053490e15f2row8_col4\" class=\"data row8 col4\" >0.889984</td>\n",
       "            </tr>\n",
       "    </tbody></table>"
      ],
      "text/plain": [
       "<pandas.io.formats.style.Styler at 0x1c2089c8448>"
      ]
     },
     "execution_count": 96,
     "metadata": {},
     "output_type": "execute_result"
    }
   ],
   "source": [
    "#adding colors to the data frame\n",
    "cm = sns.light_palette(\"#008080\", as_cmap=True)\n",
    "s = df.style.background_gradient(cmap=cm)\n",
    "s"
   ]
  },
  {
   "cell_type": "code",
   "execution_count": null,
   "metadata": {},
   "outputs": [],
   "source": []
  },
  {
   "cell_type": "code",
   "execution_count": null,
   "metadata": {},
   "outputs": [],
   "source": []
  }
 ],
 "metadata": {
  "kernelspec": {
   "display_name": "Python 3",
   "language": "python",
   "name": "python3"
  },
  "language_info": {
   "codemirror_mode": {
    "name": "ipython",
    "version": 3
   },
   "file_extension": ".py",
   "mimetype": "text/x-python",
   "name": "python",
   "nbconvert_exporter": "python",
   "pygments_lexer": "ipython3",
   "version": "3.7.4"
  },
  "widgets": {
   "application/vnd.jupyter.widget-state+json": {
    "state": {},
    "version_major": 2,
    "version_minor": 0
   }
  }
 },
 "nbformat": 4,
 "nbformat_minor": 2
}
